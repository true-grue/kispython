{
 "cells": [
  {
   "attachments": {},
   "cell_type": "markdown",
   "metadata": {},
   "source": [
    "# Практическое занятие №6\n",
    "\n",
    "*П.Н. Советов, РТУ МИРЭА*"
   ]
  },
  {
   "attachments": {},
   "cell_type": "markdown",
   "metadata": {},
   "source": [
    "## 1. Вводные задачи"
   ]
  },
  {
   "attachments": {},
   "cell_type": "markdown",
   "metadata": {},
   "source": [
    "**1.1.** (уровень сложности: низкий)"
   ]
  },
  {
   "attachments": {},
   "cell_type": "markdown",
   "metadata": {},
   "source": [
    "Напишите функцию deriv для приближенного вычисления производной в заданной точке.\n",
    "\n",
    "Пример работы:\n",
    "\n",
    "```Python\n",
    ">>> deriv(lambda x: x ** 3)(5)\n",
    "75.00014999664018\n",
    "```"
   ]
  },
  {
   "attachments": {},
   "cell_type": "markdown",
   "metadata": {},
   "source": [
    "**1.2.** (уровень сложности: средний)"
   ]
  },
  {
   "attachments": {},
   "cell_type": "markdown",
   "metadata": {},
   "source": [
    "Создайте вариант именованного кортежа с помощью ФВП. Классы и готовые структуры данных (словари, кортежи и так далее) использовать нельзя.\n",
    "\n",
    "Примеры работы:\n",
    "\n",
    "```Python\n",
    ">>> p1 = person(name='Иван', age=20)\n",
    ">>> p2 = replace(replace(p1, 'name', 'Алексей'), 'age', 21)\n",
    ">>> get(p1, 'name'), get(p1, 'age')\n",
    "('Иван', 20)\n",
    ">>> get(p2, 'name'), get(p2, 'age')\n",
    "('Алексей', 21)\n",
    "```"
   ]
  },
  {
   "attachments": {},
   "cell_type": "markdown",
   "metadata": {},
   "source": [
    "**1.3.** (уровень сложности: низкий)"
   ]
  },
  {
   "attachments": {},
   "cell_type": "markdown",
   "metadata": {},
   "source": [
    "Реализуйте рекурсивное вычисление факториала в виде выражения. Необходимо это сделать без использования именованных функций, переменных (в том числе без имени факториала) и присваиваний."
   ]
  },
  {
   "attachments": {},
   "cell_type": "markdown",
   "metadata": {},
   "source": [
    "**1.4.** (уровень сложности: низкий)"
   ]
  },
  {
   "attachments": {},
   "cell_type": "markdown",
   "metadata": {},
   "source": [
    "Создайте декоратор io, который задает функции для получения входных аргументов и вовращения результата.\n",
    "\n",
    "Примеры:\n",
    "\n",
    "```Python\n",
    "@io(input, input, input, print)\n",
    "def f1(x, y, z):\n",
    "    return x + y + z\n",
    "\n",
    ">>> f1()\n",
    "one\n",
    "two\n",
    "three\n",
    "onetwothree\n",
    "```\n",
    "\n",
    "```Python\n",
    "@io(lambda: random.random(), lambda: random.random(), lambda x: x)\n",
    "def f2(x, y):\n",
    "    return x * y\n",
    "\n",
    ">>> f2()\n",
    "0.19896827110422532"
   ]
  },
  {
   "attachments": {},
   "cell_type": "markdown",
   "metadata": {},
   "source": [
    "**1.5.** (уровень сложности: низкий)"
   ]
  },
  {
   "attachments": {},
   "cell_type": "markdown",
   "metadata": {},
   "source": [
    "Создайте декоратор класса @collect, который собирает все создаваемые объекты класса в единый список. К классу добавляется метод get_objects, который выдает этот список.\n",
    "\n",
    "Пример:\n",
    "\n",
    "```Python\n",
    "@collect\n",
    "class C1:\n",
    "    pass\n",
    "\n",
    "a = C1()\n",
    "b = C1()\n",
    "c = C1()\n",
    "\n",
    ">>> C1.get_objects()\n",
    "[<__main__.MyClass object at 0x00000259EDC10750>, <__main__.MyClass object at 0x00000259EDC968D0>, <__main__.MyClass object at 0x00000259EDC96910>]\n",
    "```"
   ]
  },
  {
   "attachments": {},
   "cell_type": "markdown",
   "metadata": {},
   "source": [
    "## 2. Работа со списками в функциональном стиле"
   ]
  },
  {
   "attachments": {},
   "cell_type": "markdown",
   "metadata": {},
   "source": [
    "Создайте тип данных односвязный список с помощью ФВП. При создании списка нельзя использовать классы, готовые списки, кортежи и так далее.\n",
    "\n",
    "Добавьте ряд операций в функциональном стиле."
   ]
  },
  {
   "attachments": {},
   "cell_type": "markdown",
   "metadata": {},
   "source": [
    "**2.1.** (уровень сложности: высокий)\n",
    "\n",
    "Создайте функцию pair(head, tail), которая порождает элемент списка. Не используйте ветвления. Создайте также функции head(lst) (возвращает значение головы списка) и tail(lst) (возвращает хвост списка).\n",
    "\n",
    "**2.2.** (уровень сложности: средний)\n",
    "\n",
    "Создайте функцию make_list(`*args`), которая создает список на основе аргументов.\n",
    "\n",
    "**2.3.** (уровень сложности: средний)\n",
    "\n",
    "Создайте функцию list_to_string(lst), возвращающую строку, содержащую элементы списка.\n",
    "\n",
    "**2.4.** (уровень сложности: средний)\n",
    "\n",
    "Создайте функцию list_range(low, high), возвращающую список чисел от low до high включительно.\n",
    "\n",
    "**2.5.** (уровень сложности: средний)\n",
    "\n",
    "Создайте функцию foldl(func, lst, acc), вычисляющую свертку элементов списка, аналогично reduce.\n",
    "\n",
    "**2.6.** (уровень сложности: средний)\n",
    "\n",
    "Создайте функцию list_sum(lst) для вычисления суммы элементов списка с помощью foldl.\n",
    "\n",
    "**2.7.** (уровень сложности: средний)\n",
    "\n",
    "Создайте функцию fact(n) для вычисления факториала с помощью foldl и list_range.\n",
    "\n",
    "**2.8.** (уровень сложности: средний)\n",
    "\n",
    "Создайте функцию list_to_py(lst) для преобразования списка в обычный список Питона с помощью foldl.\n",
    "\n",
    "**2.9.** (уровень сложности: средний)\n",
    "\n",
    "Создайте функцию list_reverse(lst) для разворота списка в обратном направлении с помощью foldl.\n",
    "\n",
    "**2.10.** (уровень сложности: средний)\n",
    "\n",
    "Создайте функцию foldr(func, lst, acc), вычисляющую свертку справа для элементов списка.\n",
    "\n",
    "**2.11.** (уровень сложности: средний)\n",
    "\n",
    "Создайте функцию list_map(func, lst), аналог map, с помощью foldr.\n",
    "\n",
    "**2.12.** (уровень сложности: средний)\n",
    "\n",
    "Создайте функцию list_filter(pred, lst), аналог filter, с помощью foldr.\n",
    "\n",
    "**2.13.** (уровень сложности: средний)\n",
    "\n",
    "Создайте функцию sum_odd_squares для вычисления суммы квадратов нечетных чисел списка с помощью list_sum, list_map и list_filter.\n",
    "\n",
    "**2.14.** (уровень сложности: средний)\n",
    "\n",
    "Создайте функцию list_concat(lst1, lst2) для соединения двух списков.\n",
    "\n",
    "**2.15.** (уровень сложности: средний)\n",
    "\n",
    "Создайте функцию list_replace(lst, index, value) для изменения элемента списка по индексу."
   ]
  },
  {
   "attachments": {},
   "cell_type": "markdown",
   "metadata": {},
   "source": [
    "## 3. Деревья выражений на основе типов-сумм"
   ]
  },
  {
   "attachments": {},
   "cell_type": "markdown",
   "metadata": {},
   "source": [
    "Опишите классы дерева выражений из практики №4 с помощью типизированных именованных кортежей. Определите тип Expr как тип-сумму.\n",
    "Реализуйте классы посетителей в виде статически типизированных функций с использованием сопоставления с образцом и проверкой на исчерпание альтернатив."
   ]
  },
  {
   "attachments": {},
   "cell_type": "markdown",
   "metadata": {},
   "source": [
    "**3.1.** (уровень сложности: средний)\n",
    "\n",
    "Реализуйте PrintVisitor в виде функции print_expr.\n",
    "\n",
    "**3.2.** (уровень сложности: низкий)\n",
    "\n",
    "Реализуйте CalcVisitor в виде функции calc_expr.\n",
    "\n",
    "**3.3.** (уровень сложности: средний)\n",
    "\n",
    "Реализуйте StackVisitor в виде функции stack_expr.\n",
    "\n",
    "**3.4.** (уровень сложности: высокий)\n",
    "\n",
    "Реализуйте функцию dot_expr для печати дерева выражения на языке Graphviz.\n",
    "\n",
    "Пример:\n",
    "\n",
    "```Python\n",
    ">>> dot_expr(Add(Num(7), Mul(Num(3), Num(2))))\n",
    "digraph G {\n",
    "n0 [label=\"2\" shape=circle]\n",
    "n1 [label=\"3\" shape=circle]\n",
    "n2 [label=\"7\" shape=circle]\n",
    "n3 [label=\"*\" shape=circle]\n",
    "n4 [label=\"+\" shape=circle]\n",
    "n1 -> n3\n",
    "n0 -> n3\n",
    "n2 -> n4\n",
    "n3 -> n4\n",
    "}\n",
    "```"
   ]
  },
  {
   "attachments": {},
   "cell_type": "markdown",
   "metadata": {},
   "source": [
    "## 4. Комбинаторы регулярных выражений"
   ]
  },
  {
   "attachments": {},
   "cell_type": "markdown",
   "metadata": {},
   "source": [
    "Реализуйте простой встроенный язык подмножества регулярных выражений с помощью ФВП. Комбинаторы имеют следующий общий вид:\n",
    "\n",
    "```Python\n",
    "def comb(param, ...):\n",
    "    def parse(text, ...):\n",
    "        ...\n",
    "        return new_text, ...\n",
    "    return parse\n",
    "```"
   ]
  },
  {
   "attachments": {},
   "cell_type": "markdown",
   "metadata": {},
   "source": [
    "**4.1.** (уровень сложности: высокий)\n",
    "\n",
    "Реализуйте комбинаторы sym (разобрать символ) и seq (разобрать последовательность).\n",
    "\n",
    "Пример использования:"
   ]
  },
  {
   "cell_type": "code",
   "execution_count": 14,
   "metadata": {},
   "outputs": [
    {
     "name": "stdout",
     "output_type": "stream",
     "text": [
      "True\n",
      "False\n"
     ]
    }
   ],
   "source": [
    "text = 'abc'\n",
    "re1 = seq(sym('a'), sym('b'), sym('c'))\n",
    "re2 = seq(sym('a'), sym('z'), sym('c'))\n",
    "\n",
    "print(re1(text) is not None)\n",
    "print(re2(text) is not None)"
   ]
  },
  {
   "attachments": {},
   "cell_type": "markdown",
   "metadata": {},
   "source": [
    "**4.2.** (уровень сложности: средний)\n",
    "\n",
    "Реализуйте комбинатор range_of (разобрать диапазон символов).\n",
    "\n",
    "Пример использования:"
   ]
  },
  {
   "cell_type": "code",
   "execution_count": 20,
   "metadata": {},
   "outputs": [
    {
     "name": "stdout",
     "output_type": "stream",
     "text": [
      "True\n",
      "False\n"
     ]
    }
   ],
   "source": [
    "digit = range_of('0', '9')\n",
    "number = seq(digit, digit)\n",
    "\n",
    "print(number('42') is not None)\n",
    "print(number('ab') is not None)"
   ]
  },
  {
   "attachments": {},
   "cell_type": "markdown",
   "metadata": {},
   "source": [
    "**4.3.** (уровень сложности: высокий)\n",
    "\n",
    "Реализуйте комбинатор alt (альтернатива).\n",
    "\n",
    "Пример использования:"
   ]
  },
  {
   "cell_type": "code",
   "execution_count": 24,
   "metadata": {},
   "outputs": [
    {
     "name": "stdout",
     "output_type": "stream",
     "text": [
      "True\n",
      "False\n"
     ]
    }
   ],
   "source": [
    "digit = range_of('0', '9')\n",
    "hex_digit = alt(digit, range_of('a', 'f'), range_of('A', 'F'))\n",
    "space = alt(sym(' '), sym('\\n'), sym('\\t'))\n",
    "hex_color = seq(sym('#'), hex_digit, hex_digit, hex_digit, hex_digit, hex_digit, hex_digit)\n",
    "\n",
    "print(hex_color('#ffaa43') is not None)\n",
    "print(hex_color('#xxxxxx') is not None)"
   ]
  },
  {
   "attachments": {},
   "cell_type": "markdown",
   "metadata": {},
   "source": [
    "**4.4.** (уровень сложности: высокий)\n",
    "\n",
    "Реализуйте комбинатор group (группировка) для извлечения разобранных фрагментов.\n",
    "\n",
    "Пример использования:"
   ]
  },
  {
   "cell_type": "code",
   "execution_count": 27,
   "metadata": {},
   "outputs": [
    {
     "name": "stdout",
     "output_type": "stream",
     "text": [
      "('', ['ffaa43', '123456'])\n"
     ]
    }
   ],
   "source": [
    "digit = range_of('0', '9')\n",
    "hex_digit = alt(digit, range_of('a', 'f'), range_of('A', 'F'))\n",
    "space = alt(sym(' '), sym('\\n'), sym('\\t'))\n",
    "hex_color = seq(sym('#'), group(seq(hex_digit, hex_digit, hex_digit, hex_digit, hex_digit, hex_digit)))\n",
    "hex_colors = seq(hex_color, sym(' '), hex_color)\n",
    "\n",
    "print(hex_colors('#ffaa43 #123456', []))"
   ]
  },
  {
   "attachments": {},
   "cell_type": "markdown",
   "metadata": {},
   "source": [
    "**4.5.** (уровень сложности: высокий)\n",
    "\n",
    "Реализуйте комбинатор many (повторить 0 или более раз).\n",
    "\n",
    "Пример использования:"
   ]
  },
  {
   "cell_type": "code",
   "execution_count": 29,
   "metadata": {},
   "outputs": [
    {
     "name": "stdout",
     "output_type": "stream",
     "text": [
      "('', ['ff10aa', 'f3207a', 'bb1040', 'ABCD00'])\n"
     ]
    }
   ],
   "source": [
    "digit = range_of('0', '9')\n",
    "hex_digit = alt(digit, range_of('a', 'f'), range_of('A', 'F'))\n",
    "space = alt(sym(' '), sym('\\n'), sym('\\t'))\n",
    "hex_color = seq(sym('#'), group(seq(hex_digit, hex_digit, hex_digit, hex_digit, hex_digit, hex_digit)))\n",
    "hex_colors = many(seq(many(space), hex_color))\n",
    "\n",
    "print(hex_colors('''#ff10aa\n",
    "#f3207a\n",
    "   #bb1040\n",
    "\n",
    "#ABCD00''', []))"
   ]
  },
  {
   "attachments": {},
   "cell_type": "markdown",
   "metadata": {},
   "source": [
    "**4.6.** (уровень сложности: высокий)\n",
    "\n",
    "Реализуйте комбинатор findall (найти все фрагменты по шаблону).\n",
    "\n",
    "Пример использования:"
   ]
  },
  {
   "cell_type": "code",
   "execution_count": 33,
   "metadata": {},
   "outputs": [
    {
     "name": "stdout",
     "output_type": "stream",
     "text": [
      "('', ['12', '82'])\n"
     ]
    }
   ],
   "source": [
    "text = '12dasd dsa82 a-'\n",
    "num = group(seq(digit, many(digit)))\n",
    "print(findall(num)(text, []))"
   ]
  },
  {
   "attachments": {},
   "cell_type": "markdown",
   "metadata": {},
   "source": [
    "**4.7.** (уровень сложности: хакер)\n",
    "\n",
    "Реализуйте вывод конечного автомата в формате Graphviz по комбинаторному представлению регулярного выражения.\n",
    "\n",
    "Пример:\n",
    "\n",
    "![](data/re_graph.png)"
   ]
  },
  {
   "attachments": {},
   "cell_type": "markdown",
   "metadata": {},
   "source": [
    "## 5. Функциональный DSL запросов к БД"
   ]
  },
  {
   "attachments": {},
   "cell_type": "markdown",
   "metadata": {},
   "source": [
    "Реализуйте язык запросов (подмножество операций реляционной алгебры) с помощью генераторов.\n",
    "Это упражнение вдохновлено работой [A SQL to C Compiler in 500 Lines of Code](data/sql_paper.pdf). В этой статье приведена таблица, использующаяся далее в примерах."
   ]
  },
  {
   "attachments": {},
   "cell_type": "markdown",
   "metadata": {},
   "source": [
    "Примеры запросов:\n",
    "\n",
    "```Python\n",
    "# select room, title from talks.csv where time='09:00 AM'\n",
    "Project(['room', 'title'], ['room', 'title'],\n",
    "        Filter(Eq(Field('time'), Value('09:00 AM')), Scan('talks.csv')))\n",
    "\n",
    "\n",
    "# select * from (select time, room, title as title1 from talks.csv)\n",
    "# join (select time, room, title as title2 from talks.csv)\n",
    "# where title1 <> title2\n",
    "Filter(Ne(Field('title1'), Field('title2')), Join(\n",
    "       Project(['time', 'room', 'title1'], [\n",
    "               'time', 'room', 'title'], Scan('talks.csv')),\n",
    "       Project(['time', 'room', 'title2'], ['time', 'room', 'title'], Scan('talks.csv')))\n",
    "```"
   ]
  },
  {
   "attachments": {},
   "cell_type": "markdown",
   "metadata": {},
   "source": [
    "**5.1.** (уровень сложности: средний)"
   ]
  },
  {
   "attachments": {},
   "cell_type": "markdown",
   "metadata": {},
   "source": [
    "Реализуйте генератор Scan('filename.csv'), который выдает очередную строку таблицы."
   ]
  },
  {
   "attachments": {},
   "cell_type": "markdown",
   "metadata": {},
   "source": [
    "**5.2.** (уровень сложности: средний)"
   ]
  },
  {
   "attachments": {},
   "cell_type": "markdown",
   "metadata": {},
   "source": [
    "Реализуйте функцию Print(parent), которая печатает все строки таблицы."
   ]
  },
  {
   "attachments": {},
   "cell_type": "markdown",
   "metadata": {},
   "source": [
    "**5.3.** (уровень сложности: высокий)"
   ]
  },
  {
   "attachments": {},
   "cell_type": "markdown",
   "metadata": {},
   "source": [
    "Реализуйте генератор Filter(pred, filename), выдающий строки таблицы, для которых выполняется предикат pred. Для создания предикатов реализуйте ФВП Eq(x, y), Ne(x, y), Value(x), Field(x)."
   ]
  },
  {
   "attachments": {},
   "cell_type": "markdown",
   "metadata": {},
   "source": [
    "**5.4.** (уровень сложности: высокий)"
   ]
  },
  {
   "attachments": {},
   "cell_type": "markdown",
   "metadata": {},
   "source": [
    "Реализуйте генератор Project(new_schema, parent_schema, parent), который выполняет операцию проекции."
   ]
  },
  {
   "attachments": {},
   "cell_type": "markdown",
   "metadata": {},
   "source": [
    "**5.5.** (уровень сложности: высокий)"
   ]
  },
  {
   "attachments": {},
   "cell_type": "markdown",
   "metadata": {},
   "source": [
    "Реализуйте генератор Join(left, right), который выполняет операцию внутреннего соединения с помощью вложенных циклов."
   ]
  },
  {
   "attachments": {},
   "cell_type": "markdown",
   "metadata": {},
   "source": [
    "**5.6.** (уровень сложности: хакер)"
   ]
  },
  {
   "attachments": {},
   "cell_type": "markdown",
   "metadata": {},
   "source": [
    "Реализуйте разбор SQL-подобного языка в разработанное представление на основе генераторов. Используйте в этой задаче комбинаторы регулярных выражений.\n",
    "\n",
    "Пример:\n",
    "\n",
    "```Python\n",
    ">>> parse_sql(\"select room, title from talks.csv where time='09:00 AM'\")\n",
    "Project([\"room\",\"title\"],[\"room\",\"title\"],Filter(Eq(Field(\"time\"),Value(\"09:00 AM\")),Scan(\"talks.csv\")))\n",
    "```"
   ]
  },
  {
   "cell_type": "markdown",
   "metadata": {},
   "source": [
    "## 6. Нормальные алгоритмы Маркова\n",
    "\n",
    "**6.1.** (уровень сложности: средний)\n",
    "\n",
    "Реализуйте интерпретатор [нормальных алгоритмов Маркова (НАМ)](https://www.mathnet.ru/php/archive.phtml?wshow=paper&jrnid=tm&paperid=1178&option_lang=rus). Обойдитесь без поддержки завершающих правил (стрелка с точкой).\n",
    "\n",
    "Проверьте интерпретатор на алгоритме перевода из двоичной записи числа в унарное представление:\n",
    "\n",
    "```\n",
    "rules = [\n",
    "    ('|0', '0||'),\n",
    "    ('1', '0|'),\n",
    "    ('0', '')\n",
    "]\n",
    "\n",
    ">>> print(markov('101', rules))\n",
    "|||||\n",
    "```\n",
    "\n",
    "**6.2.** (уровень сложности: низкий)\n",
    "\n",
    "Релизуйте НАМ для проверки четности двоичного числа. Пример работы:\n",
    "\n",
    "```\n",
    ">>> markov('parity(11)', rules)\n",
    "odd\n",
    ">>> markov('parity(1010010)', rules)\n",
    "even\n",
    "```\n",
    "\n",
    "**6.3.** (уровень сложности: средний)\n",
    "\n",
    "Реализуйте НАМ для проверки арифметического выражения на корректный синтаксис. Пример работы:\n",
    "\n",
    "```\n",
    ">>> markov(' -12* (1 + 4) - (123 /3) ', rules)\n",
    "E\n",
    ">>> markov(' -12* (1 + 4+) - (123 /3) ', rules)\n",
    "E*(E+)E\n",
    "```\n",
    "\n",
    "Если синтаксис корректен, возвращается `E`.\n",
    "\n",
    "**6.4.** (уровень сложности: хакер)\n",
    "\n",
    "Расширьте НАМ до уровня языка переписывания термов (деревьев выражений): добавьте поддержку структурных скобок, метапеременных (в духе тех, что используются в конструкции match/case Питона) и функций.\n"
   ]
  }
 ],
 "metadata": {
  "kernelspec": {
   "display_name": "Python 3",
   "language": "python",
   "name": "python3"
  },
  "language_info": {
   "codemirror_mode": {
    "name": "ipython",
    "version": 3
   },
   "file_extension": ".py",
   "mimetype": "text/x-python",
   "name": "python",
   "nbconvert_exporter": "python",
   "pygments_lexer": "ipython3",
   "version": "3.11.1"
  },
  "orig_nbformat": 4
 },
 "nbformat": 4,
 "nbformat_minor": 2
}
